{
 "cells": [
  {
   "cell_type": "markdown",
   "id": "7405a2a9-de83-4305-a087-6e13d76a775f",
   "metadata": {},
   "source": [
    "## Question 1"
   ]
  },
  {
   "cell_type": "code",
   "execution_count": 2,
   "id": "994b1464-6511-4b78-b653-41225e122901",
   "metadata": {},
   "outputs": [
    {
     "name": "stdout",
     "output_type": "stream",
     "text": [
      "22\n"
     ]
    }
   ],
   "source": [
    "def max_element_recursive(arr , n):\n",
    "    # Base case condition\n",
    "    if n == 0:\n",
    "        return arr[0]\n",
    "    \n",
    "    else:\n",
    "        return max(arr[n] , max_element_recursive(arr,n-1))\n",
    "    \n",
    "\n",
    "arr = [ 13, 1, -3, 22, 5]\n",
    "result = max_element_recursive(arr , len(arr)-1)\n",
    "print(result)"
   ]
  },
  {
   "cell_type": "markdown",
   "id": "045befa0-f881-47b4-9121-9c3ddb898424",
   "metadata": {},
   "source": [
    "## Question 2"
   ]
  },
  {
   "cell_type": "code",
   "execution_count": 4,
   "id": "445a5c2f-f230-4428-8940-7ec4ccbb2c18",
   "metadata": {},
   "outputs": [
    {
     "name": "stdout",
     "output_type": "stream",
     "text": [
      "120\n"
     ]
    }
   ],
   "source": [
    "def sum_of_array_recursive(arr,n):\n",
    "    if n < 0:\n",
    "        return 0\n",
    "    \n",
    "    else:\n",
    "        return arr[n] + sum_of_array_recursive(arr,n-1)\n",
    "\n",
    "\n",
    "\n",
    "arr = [92, 23, 15, -20, 10]\n",
    "result = sum_of_array_recursive(arr , len(arr) -1)\n",
    "print(result)"
   ]
  },
  {
   "cell_type": "code",
   "execution_count": null,
   "id": "2b858c90-bb1e-406f-b8c4-3ade6441695c",
   "metadata": {},
   "outputs": [],
   "source": []
  }
 ],
 "metadata": {
  "kernelspec": {
   "display_name": "Python 3 (ipykernel)",
   "language": "python",
   "name": "python3"
  },
  "language_info": {
   "codemirror_mode": {
    "name": "ipython",
    "version": 3
   },
   "file_extension": ".py",
   "mimetype": "text/x-python",
   "name": "python",
   "nbconvert_exporter": "python",
   "pygments_lexer": "ipython3",
   "version": "3.10.8"
  }
 },
 "nbformat": 4,
 "nbformat_minor": 5
}
