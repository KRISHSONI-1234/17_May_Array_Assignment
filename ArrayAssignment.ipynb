{
 "cells": [
  {
   "cell_type": "markdown",
   "id": "bc28e230-f147-4164-9edd-ab84ba1f8baf",
   "metadata": {},
   "source": [
    "## Question 1"
   ]
  },
  {
   "cell_type": "code",
   "execution_count": 4,
   "id": "68a3cb10-13fb-40c4-9e79-7168b0788e8a",
   "metadata": {},
   "outputs": [
    {
     "name": "stdout",
     "output_type": "stream",
     "text": [
      "True\n"
     ]
    }
   ],
   "source": [
    "arr = [1, 2, 4, 2, 5, 9]\n",
    "\n",
    "output = len(arr) != len(set(arr))  ## here set does not contain the duplicate values\n",
    "print(output)"
   ]
  },
  {
   "cell_type": "markdown",
   "id": "79ae3a11-9248-4537-9d7a-d962d7d810f0",
   "metadata": {},
   "source": [
    "## Question 2"
   ]
  },
  {
   "cell_type": "code",
   "execution_count": 6,
   "id": "3c58080a-759b-410d-8707-3104a8ee3317",
   "metadata": {},
   "outputs": [
    {
     "name": "stdout",
     "output_type": "stream",
     "text": [
      "[5, 6, 7, 1, 2, 3, 4]\n"
     ]
    }
   ],
   "source": [
    "def rotate_array(arr,k):\n",
    "    n = len(arr)\n",
    "    k = k % n\n",
    "    arr[:] = arr[-k:] + arr[:-k]\n",
    "\n",
    "\n",
    "arr = [1, 2, 3, 4, 5, 6, 7] \n",
    "k = 3\n",
    "rotate_array(arr,k)\n",
    "print(arr)"
   ]
  },
  {
   "cell_type": "markdown",
   "id": "58495dae-5fa5-4374-a967-7b90b1522f60",
   "metadata": {},
   "source": [
    "## Question 3"
   ]
  },
  {
   "cell_type": "code",
   "execution_count": 9,
   "id": "be29ed58-a26a-457f-b5d1-b1c3fedbc34f",
   "metadata": {},
   "outputs": [
    {
     "name": "stdout",
     "output_type": "stream",
     "text": [
      "[12, 9, 7, 5, 4, 2]\n"
     ]
    }
   ],
   "source": [
    "def reverse_arr(arr):\n",
    "    start = 0\n",
    "    end = len(arr) - 1\n",
    "    while start < end:\n",
    "        arr[start] , arr[end] = arr[end] , arr[start]\n",
    "        start += 1\n",
    "        end -= 1\n",
    "    \n",
    "\n",
    "arr = [2, 4, 5, 7, 9, 12]\n",
    "reverse_arr(arr)\n",
    "print(arr)"
   ]
  },
  {
   "cell_type": "markdown",
   "id": "3762ec2c-9f23-4d55-887e-7b9516a8a2ab",
   "metadata": {},
   "source": [
    "## Question 4"
   ]
  },
  {
   "cell_type": "code",
   "execution_count": 10,
   "id": "0dacd8b8-d931-4e3d-bddb-c8d614ab7579",
   "metadata": {},
   "outputs": [
    {
     "name": "stdout",
     "output_type": "stream",
     "text": [
      "20\n"
     ]
    }
   ],
   "source": [
    "arr = [10, 5, 20, 8, 15]\n",
    "max_element = arr[0]\n",
    "for i in arr:\n",
    "    if i > max_element:\n",
    "        max_element = i\n",
    "        \n",
    "print(max_element)"
   ]
  },
  {
   "cell_type": "markdown",
   "id": "dc55ed6d-5c7a-4929-9590-577853bfeec4",
   "metadata": {},
   "source": [
    "## Question 5"
   ]
  },
  {
   "cell_type": "code",
   "execution_count": null,
   "id": "e5e6e587-8aa5-4e64-bbec-6f2f47dd35e6",
   "metadata": {},
   "outputs": [],
   "source": [
    "def remove_duplicate(arr):\n",
    "    \n",
    "\n",
    "\n",
    "\n",
    "\n",
    "\n",
    "\n",
    "\n",
    "\n",
    "arr = [1, 1, 2, 2, 2, 3, 3, 4, 4, 4, 5, 5]\n",
    "remove_duplicate(arr)\n",
    "print(arr)"
   ]
  }
 ],
 "metadata": {
  "kernelspec": {
   "display_name": "Python 3 (ipykernel)",
   "language": "python",
   "name": "python3"
  },
  "language_info": {
   "codemirror_mode": {
    "name": "ipython",
    "version": 3
   },
   "file_extension": ".py",
   "mimetype": "text/x-python",
   "name": "python",
   "nbconvert_exporter": "python",
   "pygments_lexer": "ipython3",
   "version": "3.10.8"
  }
 },
 "nbformat": 4,
 "nbformat_minor": 5
}
